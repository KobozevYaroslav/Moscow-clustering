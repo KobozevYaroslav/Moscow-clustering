{
    "cells": [
        {
            "cell_type": "markdown",
            "metadata": {
                "collapsed": true
            },
            "source": "# Introduction"
        },
        {
            "cell_type": "markdown",
            "metadata": {},
            "source": "Moscow now boasts for high development and growing rates. The city has been an attraction of people, recourses and finance for many years so far. The development of Moscow economy on the one side and the growing number of people living there on another side makes effective urban planning and elaborate policy establishment of high importance. There is a tendency that when the economy develops people are more and more engaged in recreation and sports activities. For the developed economy people and their quality of life become the central point of consideration of many policymakers along with businessmen to provide better services and cover the whole range of possible outdoor activities.\nMoscow neighborhoods are heterogeneous for historical reasons. There are different parts of the city in respect of their number of population, services, cost of living, etc. In any parts of the city there are a lot of outdoor sport activity objects while in the other just a few. So there may be different ratios between supply and demand of the sport services and objects. Understanding of these ratios may be helpful for local government and business as well. But it is highly important to mention that every area of the city is singular so it may be not practical to develop research in every neighborhood. Besides, when dealing with neighborhoods one by one the whole picture is lost. The better idea is to look at the whole Moscow but taking into consideration differences of neighborhood. So we need to divide areas in Moscow to groups according to their similarity. These groups may be studied further. This approach may reduce time and effort when dealing towards the decision of the creation of new sport objects for people or closing the operating ones.\nIn this practical research Moscow areas are analyzed and clustered in relation to the presence of recreation sport object. Having done this analysis all neighborhoods of Moscow will be divided into groups using statistical clustering approach. So it may be helpful for business expansion and government policy making."
        },
        {
            "cell_type": "markdown",
            "metadata": {},
            "source": "# Data"
        },
        {
            "cell_type": "markdown",
            "metadata": {},
            "source": "Foursquare data for coordinates and venues is used. Moreover, Wikipedia data for Moscow areas with population and social characteristics is utilized."
        },
        {
            "cell_type": "code",
            "execution_count": null,
            "metadata": {},
            "outputs": [],
            "source": ""
        }
    ],
    "metadata": {
        "kernelspec": {
            "display_name": "Python 3.7",
            "language": "python",
            "name": "python3"
        },
        "language_info": {
            "codemirror_mode": {
                "name": "ipython",
                "version": 3
            },
            "file_extension": ".py",
            "mimetype": "text/x-python",
            "name": "python",
            "nbconvert_exporter": "python",
            "pygments_lexer": "ipython3",
            "version": "3.7.9"
        }
    },
    "nbformat": 4,
    "nbformat_minor": 1
}